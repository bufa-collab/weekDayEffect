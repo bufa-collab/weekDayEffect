{
 "metadata": {
  "language_info": {
   "codemirror_mode": {
    "name": "ipython",
    "version": 3
   },
   "file_extension": ".py",
   "mimetype": "text/x-python",
   "name": "python",
   "nbconvert_exporter": "python",
   "pygments_lexer": "ipython3",
   "version": "3.6.9"
  },
  "orig_nbformat": 2,
  "kernelspec": {
   "name": "python369jvsc74a57bd031f2aee4e71d21fbe5cf8b01ff0e069b9275f58929596ceb00d14d90e3e16cd6",
   "display_name": "Python 3.6.9 64-bit"
  },
  "metadata": {
   "interpreter": {
    "hash": "31f2aee4e71d21fbe5cf8b01ff0e069b9275f58929596ceb00d14d90e3e16cd6"
   }
  }
 },
 "nbformat": 4,
 "nbformat_minor": 2,
 "cells": [
  {
   "source": [
    "## ESTADISTICAS DESCRIPTIVAS DE LOS RETORNOS EN TODOS LOS DIAS DE LA SEMANA\n"
   ],
   "cell_type": "markdown",
   "metadata": {}
  },
  {
   "cell_type": "code",
   "execution_count": 76,
   "metadata": {},
   "outputs": [],
   "source": [
    "from typing import Dict\n",
    "from pandas_datareader import data\n",
    "import investpy\n",
    "import pandas_datareader.data as web\n",
    "import matplotlib.pyplot as plt\n",
    "import pandas as pd\n",
    "import numpy as np\n",
    "import datetime \n",
    "import calendar\n",
    "from statsmodels.stats.stattools import jarque_bera\n",
    "from statsmodels.tsa.stattools import adfuller\n",
    "from datetime import datetime"
   ]
  },
  {
   "cell_type": "code",
   "execution_count": 77,
   "metadata": {},
   "outputs": [],
   "source": [
    "def dailyReturn(dailyDataUSDARS):\n",
    "    for i in range (1, len (dailyDataUSDARS)):\n",
    "        retornos_USDARS.append (dailyDataUSDARS['Adj Close'][i]/ dailyDataUSDARS['Adj Close'] [i-1]-1)\n",
    "    print ('El retorno diario de USD ARS es=', retornos_USDARS)\n",
    "\n",
    "def weekdayName(x: int,y: dict):\n",
    "    if x in y.keys():\n",
    "        x = y[x]\n",
    "    return x\n",
    "def returns(dailyData):\n",
    "    returns = []\n",
    "    for i in range(0,len(dailyData)):\n",
    "        returns.append(dailyData[i]/dailyData[i-1]-1)\n",
    "    return returns"
   ]
  },
  {
   "cell_type": "code",
   "execution_count": 88,
   "metadata": {},
   "outputs": [],
   "source": [
    "retornos_USDARS= []\n",
    "wkDict = {\"lunes\":\"Monday\",\"martes\":\"Tuesday\",\"miércoles\":\"Wednesday\",\"jueves\":\"Thursday\",\"viernes\":\"Friday\",\"sabado\":\"Saturday\",\"domingo\":\"Sunday\"}\n",
    "inicio= '01/01/1995' #Fecha Inicial\n",
    "fin= '01/01/2019' #Fecha Final"
   ]
  },
  {
   "source": [
    "## USD/ARS\n"
   ],
   "cell_type": "markdown",
   "metadata": {}
  },
  {
   "cell_type": "code",
   "execution_count": 89,
   "metadata": {},
   "outputs": [
    {
     "output_type": "stream",
     "name": "stdout",
     "text": [
      "Tamaño muestra USD/ARS:3734\nDatetimeIndex(['2004-09-09', '2004-09-10', '2004-09-13', '2004-09-14',\n               '2004-09-15', '2004-09-16', '2004-09-17', '2004-09-20',\n               '2004-09-21', '2004-09-22',\n               ...\n               '2018-12-19', '2018-12-20', '2018-12-21', '2018-12-24',\n               '2018-12-25', '2018-12-26', '2018-12-27', '2018-12-28',\n               '2018-12-31', '2019-01-01'],\n              dtype='datetime64[ns]', name='Date', length=3734, freq=None)\n"
     ]
    }
   ],
   "source": [
    "dailyDataUSDARS= investpy.get_currency_cross_historical_data(currency_cross='ARS/USD',from_date=\"01/01/1995\",to_date='01/01/2019')\n",
    "weekdayFunc = lambda x : x.strftime('%A')\n",
    "dayName = [weekdayName(weekdayFunc(x),wkDict) for x in dailyDataUSDARS.index]\n",
    "dailyDataUSDARS['dayName'] = dayName\n",
    "wkList = []\n",
    "wkNumber = 0\n",
    "dailyDataUSDARS['returns'] = (dailyDataUSDARS['Close']-dailyDataUSDARS['Open']/dailyDataUSDARS['Open'])*100\n",
    "for x in dailyDataUSDARS['dayName']:\n",
    "    if x == \"Monday\":\n",
    "        wkNumber = wkNumber + 1\n",
    "    wkList.append(wkNumber)\n",
    "print(f\"Tamaño muestra USD/ARS:{len(dailyDataUSDARS)}\")\n",
    "print(dailyDataUSDARS.index)\n",
    "    "
   ]
  },
  {
   "source": [
    "## Mean, Median, Max., Min.,Std. Dev."
   ],
   "cell_type": "markdown",
   "metadata": {}
  },
  {
   "cell_type": "code",
   "execution_count": 84,
   "metadata": {},
   "outputs": [
    {
     "output_type": "stream",
     "name": "stdout",
     "text": [
      "count    3995.000000\nmean      -80.408527\nstd        11.142678\nmin       -98.340000\n25%       -92.890000\n50%       -77.440000\n75%       -68.350000\nmax       -65.020000\nName: returns, dtype: float64\n"
     ]
    }
   ],
   "source": [
    "print(dailyDataUSDARS['returns'].describe())"
   ]
  },
  {
   "source": [
    "## Skewness"
   ],
   "cell_type": "markdown",
   "metadata": {}
  },
  {
   "cell_type": "code",
   "execution_count": 60,
   "metadata": {},
   "outputs": [
    {
     "output_type": "stream",
     "name": "stdout",
     "text": [
      "36.24537599803676\n"
     ]
    }
   ],
   "source": [
    "print(dailyDataUSDARS['returns'].skew())"
   ]
  },
  {
   "source": [
    "## Jarque Bera"
   ],
   "cell_type": "markdown",
   "metadata": {}
  },
  {
   "cell_type": "code",
   "execution_count": 61,
   "metadata": {},
   "outputs": [
    {
     "output_type": "execute_result",
     "data": {
      "text/plain": [
       "1002500189.3459722"
      ]
     },
     "metadata": {},
     "execution_count": 61
    }
   ],
   "source": [
    "jarque_bera(dailyDataUSDARS['returns'])[0]"
   ]
  },
  {
   "source": [
    "## ADF TEST (t-stat)"
   ],
   "cell_type": "markdown",
   "metadata": {}
  },
  {
   "cell_type": "code",
   "execution_count": 62,
   "metadata": {},
   "outputs": [
    {
     "output_type": "stream",
     "name": "stdout",
     "text": [
      "El tamaño de la muestra para los dias: Sunday es insuficiente\n"
     ]
    }
   ],
   "source": [
    " try:\n",
    "    print(adfuller(dailyData['returns']))\n",
    "except:\n",
    "    print(f\"El tamaño de la muestra para los dias: {i} es insuficiente\")"
   ]
  },
  {
   "cell_type": "code",
   "execution_count": null,
   "metadata": {},
   "outputs": [],
   "source": []
  }
 ]
}