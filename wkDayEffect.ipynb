{
 "metadata": {
  "language_info": {
   "codemirror_mode": {
    "name": "ipython",
    "version": 3
   },
   "file_extension": ".py",
   "mimetype": "text/x-python",
   "name": "python",
   "nbconvert_exporter": "python",
   "pygments_lexer": "ipython3",
   "version": "3.6.9"
  },
  "orig_nbformat": 2,
  "kernelspec": {
   "name": "python369jvsc74a57bd031f2aee4e71d21fbe5cf8b01ff0e069b9275f58929596ceb00d14d90e3e16cd6",
   "display_name": "Python 3.6.9 64-bit"
  },
  "metadata": {
   "interpreter": {
    "hash": "31f2aee4e71d21fbe5cf8b01ff0e069b9275f58929596ceb00d14d90e3e16cd6"
   }
  }
 },
 "nbformat": 4,
 "nbformat_minor": 2,
 "cells": [
  {
   "source": [
    "## ESTADISTICAS DESCRIPTIVAS DE LOS RETORNOS EN TODOS LOS DIAS DE LA SEMANA\n"
   ],
   "cell_type": "markdown",
   "metadata": {}
  },
  {
   "cell_type": "code",
   "execution_count": 5,
   "metadata": {},
   "outputs": [],
   "source": [
    "from typing import Dict\n",
    "from pandas_datareader import data\n",
    "import pandas_datareader.data as web\n",
    "import matplotlib.pyplot as plt\n",
    "import pandas as pd\n",
    "import numpy as np\n",
    "import datetime \n",
    "import calendar\n",
    "from statsmodels.stats.stattools import jarque_bera\n",
    "from statsmodels.tsa.stattools import adfuller\n",
    "from datetime import datetime"
   ]
  },
  {
   "cell_type": "code",
   "execution_count": 6,
   "metadata": {},
   "outputs": [],
   "source": [
    "def dailyReturn(dailyDataUSDARS):\n",
    "    for i in range (1, len (dailyDataUSDARS)):\n",
    "        retornos_USDARS.append (dailyDataUSDARS['Adj Close'][i]/ dailyDataUSDARS['Adj Close'] [i-1]-1)\n",
    "    print ('El retorno diario de USD ARS es=', retornos_USDARS)\n",
    "\n",
    "def weekdayName(x: int,y: dict):\n",
    "    if x in y.keys():\n",
    "        x = y[x]\n",
    "    return x\n"
   ]
  },
  {
   "cell_type": "code",
   "execution_count": 8,
   "metadata": {},
   "outputs": [],
   "source": [
    "retornos_USDARS= []\n",
    "wkDict = {\"lunes\":\"Monday\",\"martes\":\"Tuesday\",\"miércoles\":\"Wednesday\",\"jueves\":\"Thursday\",\"viernes\":\"Friday\",\"sabado\":\"Saturday\",\"domingo\":\"Sunday\"}\n",
    "inicio= '1995-01-01' #Fecha Inicial\n",
    "fin= '2020-01-01' #Fecha Final"
   ]
  },
  {
   "source": [
    "## USD/ARS\n"
   ],
   "cell_type": "markdown",
   "metadata": {}
  },
  {
   "cell_type": "code",
   "execution_count": 11,
   "metadata": {},
   "outputs": [],
   "source": [
    "dailyDataUSDARS= web.get_data_yahoo('ARS=X', inicio, fin, interval='d')\n",
    "weekdayFunc = lambda x : x.strftime('%A')\n",
    "dayName = [weekdayName(weekdayFunc(x),wkDict) for x in dailyDataUSDARS.index]\n",
    "dailyDataUSDARS['dayName'] = dayName\n",
    "wkList = []\n",
    "wkNumber = 0\n",
    "for x in dailyDataUSDARS['dayName']:\n",
    "    if x == \"Monday\":\n",
    "        wkNumber = wkNumber + 1\n",
    "    wkList.append(wkNumber)\n",
    "dailyDataUSDARS['weekNumber'] = wkList\n",
    "weeklyDataUSDARS = dailyDataUSDARS.groupby(\"weekNumber\").sum()\n",
    "adjCloseWK = weeklyDataUSDARS['Adj Close']\n",
    "dailyData = dailyDataUSDARS[dailyDataUSDARS[\"dayName\"] == \"Monday\"]\n",
    "    "
   ]
  },
  {
   "cell_type": "code",
   "execution_count": null,
   "metadata": {},
   "outputs": [],
   "source": [
    "for i in wkDict.values():\n",
    "    dailyData = dailyDataUSDARS[dailyDataUSDARS[\"dayName\"] == i]\n",
    "    # print(weeklyDataUSDARS.describe())\n",
    "    # print(dailyDataUSDARS.kurtosis())\n",
    "    # print(dailyDataUSDARS.skew())\n",
    "    # print(weeklyDataUSDARS)\n",
    "    # print(jarque_bera(dailyDataUSDARS['Adj Close']))\n",
    "    try:\n",
    "        print(adfuller(dailyData['Adj Close']))\n",
    "    except:\n",
    "        print(f\"El tamaño de la muestra para los dias: {i} es insuficiente\")\n",
    "    #plt.plot(dailyData['Adj Close'])"
   ]
  }
 ]
}