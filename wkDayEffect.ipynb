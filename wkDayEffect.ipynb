{
 "metadata": {
  "language_info": {
   "codemirror_mode": {
    "name": "ipython",
    "version": 3
   },
   "file_extension": ".py",
   "mimetype": "text/x-python",
   "name": "python",
   "nbconvert_exporter": "python",
   "pygments_lexer": "ipython3",
   "version": "3.6.9"
  },
  "orig_nbformat": 2,
  "kernelspec": {
   "name": "python369jvsc74a57bd031f2aee4e71d21fbe5cf8b01ff0e069b9275f58929596ceb00d14d90e3e16cd6",
   "display_name": "Python 3.6.9 64-bit"
  },
  "metadata": {
   "interpreter": {
    "hash": "31f2aee4e71d21fbe5cf8b01ff0e069b9275f58929596ceb00d14d90e3e16cd6"
   }
  }
 },
 "nbformat": 4,
 "nbformat_minor": 2,
 "cells": [
  {
   "source": [
    "## ESTADISTICAS DESCRIPTIVAS DE LOS RETORNOS EN TODOS LOS DIAS DE LA SEMANA\n"
   ],
   "cell_type": "markdown",
   "metadata": {}
  },
  {
   "cell_type": "code",
   "execution_count": 91,
   "metadata": {},
   "outputs": [],
   "source": [
    "from typing import Dict\n",
    "from pandas_datareader import data\n",
    "import investpy\n",
    "import pandas_datareader.data as web\n",
    "import matplotlib.pyplot as plt\n",
    "import pandas as pd\n",
    "import numpy as np\n",
    "import datetime \n",
    "import calendar\n",
    "from statsmodels.stats.stattools import jarque_bera\n",
    "from statsmodels.tsa.stattools import adfuller\n",
    "from datetime import datetime"
   ]
  },
  {
   "cell_type": "code",
   "execution_count": 93,
   "metadata": {},
   "outputs": [],
   "source": [
    "retornos_USDARS= []\n",
    "wkDict = {\"lunes\":\"Monday\",\"martes\":\"Tuesday\",\"miércoles\":\"Wednesday\",\"jueves\":\"Thursday\",\"viernes\":\"Friday\",\"sabado\":\"Saturday\",\"domingo\":\"Sunday\"}\n",
    "inicio= '01/01/1995' #Fecha Inicial\n",
    "fin= '01/01/2019' #Fecha Final"
   ]
  },
  {
   "source": [
    "## USD/ARS\n"
   ],
   "cell_type": "markdown",
   "metadata": {}
  },
  {
   "cell_type": "code",
   "execution_count": 100,
   "metadata": {},
   "outputs": [
    {
     "output_type": "stream",
     "name": "stdout",
     "text": [
      "Tamaño muestra USD/ARS:6224\nDatetimeIndex(['1995-01-02', '1995-01-03', '1995-01-04', '1995-01-05',\n               '1995-01-06', '1995-01-09', '1995-01-10', '1995-01-11',\n               '1995-01-12', '1995-01-13',\n               ...\n               '2018-12-19', '2018-12-20', '2018-12-21', '2018-12-24',\n               '2018-12-25', '2018-12-26', '2018-12-27', '2018-12-28',\n               '2018-12-31', '2019-01-01'],\n              dtype='datetime64[ns]', name='Date', length=6224, freq=None)\n"
     ]
    }
   ],
   "source": [
    "dailyDataUSDARS= investpy.get_currency_cross_historical_data(currency_cross='USD/ARS',from_date=\"01/01/1995\",to_date='01/01/2019')\n",
    "weekdayFunc = lambda x : x.strftime('%A')\n",
    "dayName = [weekdayName(weekdayFunc(x),wkDict) for x in dailyDataUSDARS.index]\n",
    "dailyDataUSDARS['dayName'] = dayName\n",
    "wkList = []\n",
    "wkNumber = 0\n",
    "dailyDataUSDARS['returns'] = ((dailyDataUSDARS['Close']-dailyDataUSDARS['Open'])/dailyDataUSDARS['Open'])*100\n",
    "for x in dailyDataUSDARS['dayName']:\n",
    "    if x == \"Monday\":\n",
    "        wkNumber = wkNumber + 1\n",
    "    wkList.append(wkNumber)\n",
    "print(f\"Tamaño muestra USD/ARS:{len(dailyDataUSDARS)}\")\n",
    "print(dailyDataUSDARS.index)\n",
    "    "
   ]
  },
  {
   "source": [
    "## Mean, Median, Max., Min.,Std. Dev."
   ],
   "cell_type": "markdown",
   "metadata": {}
  },
  {
   "cell_type": "code",
   "execution_count": 95,
   "metadata": {},
   "outputs": [
    {
     "output_type": "stream",
     "name": "stdout",
     "text": [
      "count    6224.000000\nmean      431.695501\nstd       644.379417\nmin        -1.300000\n25%         0.000000\n50%       212.850000\n75%       394.812500\nmax      4029.000000\nName: returns, dtype: float64\n"
     ]
    }
   ],
   "source": [
    "print(dailyDataUSDARS['returns'].describe())"
   ]
  },
  {
   "source": [
    "## Skewness"
   ],
   "cell_type": "markdown",
   "metadata": {}
  },
  {
   "cell_type": "code",
   "execution_count": 96,
   "metadata": {},
   "outputs": [
    {
     "output_type": "stream",
     "name": "stdout",
     "text": [
      "2.75337251868617\n"
     ]
    }
   ],
   "source": [
    "print(dailyDataUSDARS['returns'].skew())"
   ]
  },
  {
   "source": [
    "## Jarque Bera y Kurtosis"
   ],
   "cell_type": "markdown",
   "metadata": {}
  },
  {
   "cell_type": "code",
   "execution_count": 148,
   "metadata": {},
   "outputs": [
    {
     "output_type": "execute_result",
     "data": {
      "text/plain": [
       "(42509.35234764973, 0.0, 0.5691506416929457, 15.722494549280821)"
      ]
     },
     "metadata": {},
     "execution_count": 148
    }
   ],
   "source": [
    "jarque_bera(dailyDataUSDARS['returns'])"
   ]
  },
  {
   "source": [
    "## ADF TEST (t-stat)"
   ],
   "cell_type": "markdown",
   "metadata": {}
  },
  {
   "cell_type": "code",
   "execution_count": 115,
   "metadata": {},
   "outputs": [
    {
     "output_type": "stream",
     "name": "stdout",
     "text": [
      "ADF TEST (t-stat) d: (-7.985212000860563, 2.5598407832562946e-12, 29, 6194, {'1%': -3.431406185358798, '5%': -2.862006739523472, '10%': -2.5670184426062947}, 14560.268644946513)\n"
     ]
    }
   ],
   "source": [
    "print(f\"ADF TEST (t-stat) d: {adfuller(dailyDataUSDARS['returns'])}\")\n"
   ]
  },
  {
   "source": [
    "## Estadisticas descriptivas por dia de la semana"
   ],
   "cell_type": "markdown",
   "metadata": {}
  },
  {
   "source": [
    "## LUNES"
   ],
   "cell_type": "markdown",
   "metadata": {}
  },
  {
   "cell_type": "code",
   "execution_count": 138,
   "metadata": {},
   "outputs": [
    {
     "output_type": "execute_result",
     "data": {
      "text/plain": [
       "count    1251.000000\n",
       "mean        0.112526\n",
       "std         1.106093\n",
       "min        -8.192771\n",
       "25%        -0.309070\n",
       "50%         0.000000\n",
       "75%         0.467207\n",
       "max        10.489510\n",
       "Name: returns, dtype: float64"
      ]
     },
     "metadata": {},
     "execution_count": 138
    }
   ],
   "source": [
    "dailyDataUSDARS[dailyDataUSDARS['dayName']=='Monday']['returns'].describe()"
   ]
  },
  {
   "source": [
    "Skewness"
   ],
   "cell_type": "markdown",
   "metadata": {}
  },
  {
   "cell_type": "code",
   "execution_count": 143,
   "metadata": {},
   "outputs": [
    {
     "output_type": "stream",
     "name": "stdout",
     "text": [
      "1.2895103957764202\n"
     ]
    }
   ],
   "source": [
    "print(dailyDataUSDARS[dailyDataUSDARS['dayName']=='Monday']['returns'].skew())"
   ]
  },
  {
   "source": [
    "Kurtosis y Jarque-Bera"
   ],
   "cell_type": "markdown",
   "metadata": {}
  },
  {
   "cell_type": "code",
   "execution_count": 151,
   "metadata": {},
   "outputs": [
    {
     "output_type": "stream",
     "name": "stdout",
     "text": [
      "(15797.131207472186, 0.0, 1.287963704973712, 20.217057448553195)\n"
     ]
    }
   ],
   "source": [
    "print(jarque_bera(dailyDataUSDARS[dailyDataUSDARS['dayName']=='Monday']['returns']))"
   ]
  },
  {
   "source": [
    "## MARTES"
   ],
   "cell_type": "markdown",
   "metadata": {}
  },
  {
   "cell_type": "code",
   "execution_count": 139,
   "metadata": {},
   "outputs": [
    {
     "output_type": "execute_result",
     "data": {
      "text/plain": [
       "count    1252.000000\n",
       "mean        0.024524\n",
       "std         0.959585\n",
       "min        -8.376963\n",
       "25%        -0.355274\n",
       "50%         0.005340\n",
       "75%         0.378608\n",
       "max         6.068477\n",
       "Name: returns, dtype: float64"
      ]
     },
     "metadata": {},
     "execution_count": 139
    }
   ],
   "source": [
    "dailyDataUSDARS[dailyDataUSDARS['dayName']=='Tuesday']['returns'].describe()"
   ]
  },
  {
   "source": [
    "## MIERCOLES"
   ],
   "cell_type": "markdown",
   "metadata": {}
  },
  {
   "cell_type": "code",
   "execution_count": 140,
   "metadata": {},
   "outputs": [
    {
     "output_type": "execute_result",
     "data": {
      "text/plain": [
       "count    1251.000000\n",
       "mean        0.043532\n",
       "std         0.970867\n",
       "min        -5.147154\n",
       "25%        -0.400524\n",
       "50%         0.000000\n",
       "75%         0.408065\n",
       "max         7.235577\n",
       "Name: returns, dtype: float64"
      ]
     },
     "metadata": {},
     "execution_count": 140
    }
   ],
   "source": [
    "dailyDataUSDARS[dailyDataUSDARS['dayName']=='Wednesday']['returns'].describe()"
   ]
  },
  {
   "source": [
    "## JUEVES"
   ],
   "cell_type": "markdown",
   "metadata": {}
  },
  {
   "cell_type": "code",
   "execution_count": 141,
   "metadata": {},
   "outputs": [
    {
     "output_type": "execute_result",
     "data": {
      "text/plain": [
       "count    1249.000000\n",
       "mean        0.033062\n",
       "std         1.036367\n",
       "min       -10.101010\n",
       "25%        -0.339175\n",
       "50%         0.000000\n",
       "75%         0.417292\n",
       "max         7.425743\n",
       "Name: returns, dtype: float64"
      ]
     },
     "metadata": {},
     "execution_count": 141
    }
   ],
   "source": [
    "dailyDataUSDARS[dailyDataUSDARS['dayName']=='Thursday']['returns'].describe()"
   ]
  },
  {
   "source": [
    "## VIERNES"
   ],
   "cell_type": "markdown",
   "metadata": {}
  },
  {
   "cell_type": "code",
   "execution_count": 142,
   "metadata": {},
   "outputs": [
    {
     "output_type": "execute_result",
     "data": {
      "text/plain": [
       "count    1250.000000\n",
       "mean       -0.032053\n",
       "std         0.962063\n",
       "min        -4.965157\n",
       "25%        -0.449062\n",
       "50%         0.000000\n",
       "75%         0.332226\n",
       "max         8.396947\n",
       "Name: returns, dtype: float64"
      ]
     },
     "metadata": {},
     "execution_count": 142
    }
   ],
   "source": [
    "dailyDataUSDARS[dailyDataUSDARS['dayName']=='Friday']['returns'].describe()"
   ]
  },
  {
   "source": [
    "## USD/BRL"
   ],
   "cell_type": "markdown",
   "metadata": {}
  },
  {
   "cell_type": "code",
   "execution_count": 117,
   "metadata": {},
   "outputs": [
    {
     "output_type": "stream",
     "name": "stdout",
     "text": [
      "Tamaño muestra USD/ARS:6253\nDatetimeIndex(['1995-01-02', '1995-01-03', '1995-01-04', '1995-01-05',\n               '1995-01-06', '1995-01-09', '1995-01-10', '1995-01-11',\n               '1995-01-12', '1995-01-13',\n               ...\n               '2018-12-19', '2018-12-20', '2018-12-21', '2018-12-24',\n               '2018-12-25', '2018-12-26', '2018-12-27', '2018-12-28',\n               '2018-12-31', '2019-01-01'],\n              dtype='datetime64[ns]', name='Date', length=6253, freq=None)\n"
     ]
    }
   ],
   "source": [
    "dailyDataUSDARS= investpy.get_currency_cross_historical_data(currency_cross='USD/BRL',from_date=\"01/01/1995\",to_date='01/01/2019')\n",
    "weekdayFunc = lambda x : x.strftime('%A')\n",
    "dayName = [weekdayName(weekdayFunc(x),wkDict) for x in dailyDataUSDARS.index]\n",
    "dailyDataUSDARS['dayName'] = dayName\n",
    "wkList = []\n",
    "wkNumber = 0\n",
    "dailyDataUSDARS['returns'] = ((dailyDataUSDARS['Close']-dailyDataUSDARS['Open'])/dailyDataUSDARS['Open'])*100\n",
    "for x in dailyDataUSDARS['dayName']:\n",
    "    if x == \"Monday\":\n",
    "        wkNumber = wkNumber + 1\n",
    "    wkList.append(wkNumber)\n",
    "print(f\"Tamaño muestra USD/ARS:{len(dailyDataUSDARS)}\")\n",
    "print(dailyDataUSDARS.index)\n",
    "    "
   ]
  },
  {
   "source": [
    "## Mean, Median, Max., Min.,Std. Dev."
   ],
   "cell_type": "markdown",
   "metadata": {}
  },
  {
   "cell_type": "code",
   "execution_count": 119,
   "metadata": {},
   "outputs": [
    {
     "output_type": "stream",
     "name": "stdout",
     "text": [
      "count    6253.000000\nmean        0.036328\nstd         1.009335\nmin       -10.101010\n25%        -0.376294\n50%         0.000000\n75%         0.397501\nmax        10.489510\nName: returns, dtype: float64\n"
     ]
    }
   ],
   "source": [
    "print(dailyDataUSDARS['returns'].describe())"
   ]
  },
  {
   "source": [
    "## Skewness"
   ],
   "cell_type": "markdown",
   "metadata": {}
  },
  {
   "cell_type": "code",
   "execution_count": 120,
   "metadata": {},
   "outputs": [
    {
     "output_type": "stream",
     "name": "stdout",
     "text": [
      "0.5692872141748011\n"
     ]
    }
   ],
   "source": [
    "print(dailyDataUSDARS['returns'].skew())"
   ]
  },
  {
   "source": [
    "## Jarque Bera"
   ],
   "cell_type": "markdown",
   "metadata": {}
  },
  {
   "cell_type": "code",
   "execution_count": 121,
   "metadata": {},
   "outputs": [
    {
     "output_type": "execute_result",
     "data": {
      "text/plain": [
       "42509.35234764973"
      ]
     },
     "metadata": {},
     "execution_count": 121
    }
   ],
   "source": [
    "jarque_bera(dailyDataUSDARS['returns'])[0]"
   ]
  },
  {
   "source": [
    "## ADF TEST (t-stat)"
   ],
   "cell_type": "markdown",
   "metadata": {}
  },
  {
   "cell_type": "code",
   "execution_count": 122,
   "metadata": {},
   "outputs": [
    {
     "output_type": "stream",
     "name": "stdout",
     "text": [
      "ADF TEST (t-stat) d: (-16.830993667187386, 1.1580140906644944e-29, 17, 6235, {'1%': -3.4313992372517417, '5%': -2.862003669623052, '10%': -2.5670168084236167}, 17770.5651221772)\n"
     ]
    }
   ],
   "source": [
    "print(f\"ADF TEST (t-stat) : {adfuller(dailyDataUSDARS['returns'])}\")\n"
   ]
  },
  {
   "cell_type": "code",
   "execution_count": null,
   "metadata": {},
   "outputs": [],
   "source": []
  }
 ]
}