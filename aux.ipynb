{
 "metadata": {
  "language_info": {
   "codemirror_mode": {
    "name": "ipython",
    "version": 3
   },
   "file_extension": ".py",
   "mimetype": "text/x-python",
   "name": "python",
   "nbconvert_exporter": "python",
   "pygments_lexer": "ipython3",
   "version": "3.6.9"
  },
  "orig_nbformat": 2,
  "kernelspec": {
   "name": "python369jvsc74a57bd031f2aee4e71d21fbe5cf8b01ff0e069b9275f58929596ceb00d14d90e3e16cd6",
   "display_name": "Python 3.6.9 64-bit"
  },
  "metadata": {
   "interpreter": {
    "hash": "31f2aee4e71d21fbe5cf8b01ff0e069b9275f58929596ceb00d14d90e3e16cd6"
   }
  }
 },
 "nbformat": 4,
 "nbformat_minor": 2,
 "cells": [
  {
   "cell_type": "code",
   "execution_count": 7,
   "metadata": {},
   "outputs": [],
   "source": [
    "from typing import Dict\n",
    "from pandas_datareader import data\n",
    "import pandas_datareader.data as web\n",
    "import matplotlib.pyplot as plt\n",
    "import pandas as pd\n",
    "import numpy as np\n",
    "import datetime \n",
    "import calendar\n",
    "from statsmodels.stats.stattools import jarque_bera\n",
    "from statsmodels.tsa.stattools import adfuller\n",
    "from datetime import datetime"
   ]
  },
  {
   "cell_type": "code",
   "execution_count": 15,
   "metadata": {},
   "outputs": [],
   "source": [
    "retornos_USDARS= []\n",
    "wkDict = {\"lunes\":\"Monday\",\"martes\":\"Tuesday\",\"miércoles\":\"Wednesday\",\"jueves\":\"Thursday\",\"viernes\":\"Friday\",\"sabado\":\"Saturday\",\"domingo\":\"Sunday\"}\n",
    "inicio= '2019-01-01' #Fecha Inicial\n",
    "fin= '2020-01-01' #Fecha Final"
   ]
  },
  {
   "cell_type": "code",
   "execution_count": 17,
   "metadata": {},
   "outputs": [],
   "source": [
    "def dailyReturn(dailyDataUSDARS):\n",
    "    for i in range (1, len (dailyDataUSDARS)):\n",
    "        retornos_USDARS.append (dailyDataUSDARS['Adj Close'][i]/ dailyDataUSDARS['Adj Close'] [i-1]-1)\n",
    "    print ('El retorno diario de USD ARS es=', retornos_USDARS)\n",
    "\n",
    "def weekdayName(x: int,y: dict):\n",
    "    if x in y.keys():\n",
    "        x = y[x]\n",
    "    return x"
   ]
  },
  {
   "cell_type": "code",
   "execution_count": 18,
   "metadata": {},
   "outputs": [],
   "source": [
    "dailyDataUSDARS= web.get_data_yahoo('ARS=X', inicio, fin, interval='d')"
   ]
  },
  {
   "cell_type": "code",
   "execution_count": 20,
   "metadata": {},
   "outputs": [
    {
     "output_type": "execute_result",
     "data": {
      "text/plain": [
       "             High         Low        Open       Close  Volume   Adj Close\n",
       "count  242.000000  242.000000  242.000000  242.000000   242.0  242.000000\n",
       "mean    47.832336   47.225446   47.506153   47.510492     0.0   47.510492\n",
       "std      8.431123    8.330449    8.390485    8.400136     0.0    8.400136\n",
       "min     37.196999   36.841999   36.929001   36.929001     0.0   36.929001\n",
       "25%     41.847749   41.390777   41.577750   41.586325     0.0   41.586325\n",
       "50%     44.659651   44.019001   44.330500   44.325500     0.0   44.325500\n",
       "75%     58.572462   57.660449   57.927000   57.934251     0.0   57.934251\n",
       "max     60.505001   59.856171   60.235001   60.238998     0.0   60.238998"
      ],
      "text/html": "<div>\n<style scoped>\n    .dataframe tbody tr th:only-of-type {\n        vertical-align: middle;\n    }\n\n    .dataframe tbody tr th {\n        vertical-align: top;\n    }\n\n    .dataframe thead th {\n        text-align: right;\n    }\n</style>\n<table border=\"1\" class=\"dataframe\">\n  <thead>\n    <tr style=\"text-align: right;\">\n      <th></th>\n      <th>High</th>\n      <th>Low</th>\n      <th>Open</th>\n      <th>Close</th>\n      <th>Volume</th>\n      <th>Adj Close</th>\n    </tr>\n  </thead>\n  <tbody>\n    <tr>\n      <th>count</th>\n      <td>242.000000</td>\n      <td>242.000000</td>\n      <td>242.000000</td>\n      <td>242.000000</td>\n      <td>242.0</td>\n      <td>242.000000</td>\n    </tr>\n    <tr>\n      <th>mean</th>\n      <td>47.832336</td>\n      <td>47.225446</td>\n      <td>47.506153</td>\n      <td>47.510492</td>\n      <td>0.0</td>\n      <td>47.510492</td>\n    </tr>\n    <tr>\n      <th>std</th>\n      <td>8.431123</td>\n      <td>8.330449</td>\n      <td>8.390485</td>\n      <td>8.400136</td>\n      <td>0.0</td>\n      <td>8.400136</td>\n    </tr>\n    <tr>\n      <th>min</th>\n      <td>37.196999</td>\n      <td>36.841999</td>\n      <td>36.929001</td>\n      <td>36.929001</td>\n      <td>0.0</td>\n      <td>36.929001</td>\n    </tr>\n    <tr>\n      <th>25%</th>\n      <td>41.847749</td>\n      <td>41.390777</td>\n      <td>41.577750</td>\n      <td>41.586325</td>\n      <td>0.0</td>\n      <td>41.586325</td>\n    </tr>\n    <tr>\n      <th>50%</th>\n      <td>44.659651</td>\n      <td>44.019001</td>\n      <td>44.330500</td>\n      <td>44.325500</td>\n      <td>0.0</td>\n      <td>44.325500</td>\n    </tr>\n    <tr>\n      <th>75%</th>\n      <td>58.572462</td>\n      <td>57.660449</td>\n      <td>57.927000</td>\n      <td>57.934251</td>\n      <td>0.0</td>\n      <td>57.934251</td>\n    </tr>\n    <tr>\n      <th>max</th>\n      <td>60.505001</td>\n      <td>59.856171</td>\n      <td>60.235001</td>\n      <td>60.238998</td>\n      <td>0.0</td>\n      <td>60.238998</td>\n    </tr>\n  </tbody>\n</table>\n</div>"
     },
     "metadata": {},
     "execution_count": 20
    }
   ],
   "source": [
    "dailyDataUSDARS.describe()"
   ]
  },
  {
   "cell_type": "code",
   "execution_count": null,
   "metadata": {},
   "outputs": [],
   "source": [
    "def returns(dailyData):\n",
    "    returns = []\n",
    "    for i in range(1,len(dailyData)):\n",
    "        returns.append(dailyData[i]/dailyData[i-1]-1)\n",
    "    return(dailyData['Returns'] = returns)"
   ]
  }
 ]
}