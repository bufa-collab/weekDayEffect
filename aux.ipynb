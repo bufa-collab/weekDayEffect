{
 "metadata": {
  "language_info": {
   "codemirror_mode": {
    "name": "ipython",
    "version": 3
   },
   "file_extension": ".py",
   "mimetype": "text/x-python",
   "name": "python",
   "nbconvert_exporter": "python",
   "pygments_lexer": "ipython3",
   "version": "3.6.9"
  },
  "orig_nbformat": 2,
  "kernelspec": {
   "name": "python369jvsc74a57bd031f2aee4e71d21fbe5cf8b01ff0e069b9275f58929596ceb00d14d90e3e16cd6",
   "display_name": "Python 3.6.9 64-bit"
  },
  "metadata": {
   "interpreter": {
    "hash": "31f2aee4e71d21fbe5cf8b01ff0e069b9275f58929596ceb00d14d90e3e16cd6"
   }
  }
 },
 "nbformat": 4,
 "nbformat_minor": 2,
 "cells": [
  {
   "cell_type": "code",
   "execution_count": 28,
   "metadata": {},
   "outputs": [],
   "source": [
    "from typing import Dict\n",
    "from pandas_datareader import data\n",
    "import pandas_datareader.data as web\n",
    "import matplotlib.pyplot as plt\n",
    "import pandas as pd\n",
    "import numpy as np\n",
    "import datetime \n",
    "import calendar\n",
    "from statsmodels.stats.stattools import jarque_bera\n",
    "from statsmodels.tsa.stattools import adfuller\n",
    "from datetime import datetime"
   ]
  },
  {
   "cell_type": "code",
   "execution_count": 36,
   "metadata": {},
   "outputs": [],
   "source": [
    "retornos_USDARS= []\n",
    "wkDict = {\"lunes\":\"Monday\",\"martes\":\"Tuesday\",\"miércoles\":\"Wednesday\",\"jueves\":\"Thursday\",\"viernes\":\"Friday\",\"sabado\":\"Saturday\",\"domingo\":\"Sunday\"}\n",
    "inicio= '1995-01-01' #Fecha Inicial\n",
    "fin= '2002-01-01' #Fecha Final"
   ]
  },
  {
   "cell_type": "code",
   "execution_count": 37,
   "metadata": {},
   "outputs": [],
   "source": [
    "def dailyReturn(dailyDataUSDARS):\n",
    "    for i in range (1, len (dailyDataUSDARS)):\n",
    "        retornos_USDARS.append (dailyDataUSDARS['Adj Close'][i]/ dailyDataUSDARS['Adj Close'] [i-1]-1)\n",
    "    print ('El retorno diario de USD ARS es=', retornos_USDARS)\n",
    "\n",
    "def weekdayName(x: int,y: dict):\n",
    "    if x in y.keys():\n",
    "        x = y[x]\n",
    "    return x"
   ]
  },
  {
   "cell_type": "code",
   "execution_count": 38,
   "metadata": {},
   "outputs": [],
   "source": [
    "dailyDataUSDARS= web.get_data_yahoo('ARS=X', inicio, fin, interval='d')"
   ]
  },
  {
   "cell_type": "code",
   "execution_count": 42,
   "metadata": {},
   "outputs": [
    {
     "output_type": "stream",
     "name": "stdout",
     "text": [
      "DatetimeIndex(['2001-07-12', '2001-07-15', '2001-07-22', '2001-07-29',\n               '2001-08-05', '2001-08-12', '2001-08-19', '2001-08-26',\n               '2001-09-02', '2001-09-09'],\n              dtype='datetime64[ns]', name='Date', freq=None)\n"
     ]
    }
   ],
   "source": [
    "print(dailyDataUSDARS.index)"
   ]
  },
  {
   "cell_type": "code",
   "execution_count": 22,
   "metadata": {},
   "outputs": [],
   "source": []
  },
  {
   "cell_type": "code",
   "execution_count": null,
   "metadata": {},
   "outputs": [],
   "source": []
  }
 ]
}